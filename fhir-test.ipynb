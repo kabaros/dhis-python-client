{
 "cells": [
  {
   "cell_type": "code",
   "execution_count": 14,
   "id": "b04b991e",
   "metadata": {},
   "outputs": [],
   "source": [
    "from fhirclient import client\n",
    "from fhirclient.models.patient import Patient\n",
    "\n",
    "settings = {\n",
    "    'app_id': 'home_r4',\n",
    "    'api_base': ' http://hapi.fhir.org'\n",
    "}\n",
    "smart = client.FHIRClient(settings=settings)\n"
   ]
  },
  {
   "cell_type": "code",
   "execution_count": null,
   "id": "101284e3",
   "metadata": {},
   "outputs": [
    {
     "ename": "FHIRNotFoundException",
     "evalue": "<Response [404]>",
     "output_type": "error",
     "traceback": [
      "\u001b[31m---------------------------------------------------------------------------\u001b[39m",
      "\u001b[31mFHIRNotFoundException\u001b[39m                     Traceback (most recent call last)",
      "\u001b[36mCell\u001b[39m\u001b[36m \u001b[39m\u001b[32mIn[16]\u001b[39m\u001b[32m, line 1\u001b[39m\n\u001b[32m----> \u001b[39m\u001b[32m1\u001b[39m patient = \u001b[43mPatient\u001b[49m\u001b[43m.\u001b[49m\u001b[43mread\u001b[49m\u001b[43m(\u001b[49m\u001b[32;43m597083\u001b[39;49m\u001b[43m,\u001b[49m\u001b[43m \u001b[49m\u001b[43msmart\u001b[49m\u001b[43m.\u001b[49m\u001b[43mserver\u001b[49m\u001b[43m)\u001b[49m\n\u001b[32m      2\u001b[39m \u001b[38;5;28mprint\u001b[39m(patient)\n\u001b[32m      3\u001b[39m \u001b[38;5;66;03m# '1992-07-03'\u001b[39;00m\n\u001b[32m      4\u001b[39m \u001b[38;5;66;03m# print(smart.human_name(questionnaire.name[0]))\u001b[39;00m\n\u001b[32m      5\u001b[39m \u001b[38;5;66;03m# 'Mr. Geoffrey Abbott'\u001b[39;00m\n",
      "\u001b[36mFile \u001b[39m\u001b[32m~/code/old-laptop/code/others/play-jupyter/dhis2-api-client/.venv/lib/python3.12/site-packages/fhirclient/models/fhirabstractresource.py:90\u001b[39m, in \u001b[36mFHIRAbstractResource.read\u001b[39m\u001b[34m(cls, rem_id, server)\u001b[39m\n\u001b[32m     87\u001b[39m     \u001b[38;5;28;01mraise\u001b[39;00m \u001b[38;5;167;01mException\u001b[39;00m(\u001b[33m\"\u001b[39m\u001b[33mCannot read resource without remote id\u001b[39m\u001b[33m\"\u001b[39m)\n\u001b[32m     89\u001b[39m path = \u001b[33m'\u001b[39m\u001b[38;5;132;01m{}\u001b[39;00m\u001b[33m/\u001b[39m\u001b[38;5;132;01m{}\u001b[39;00m\u001b[33m'\u001b[39m.format(\u001b[38;5;28mcls\u001b[39m.resource_type, rem_id)\n\u001b[32m---> \u001b[39m\u001b[32m90\u001b[39m instance = \u001b[38;5;28;43mcls\u001b[39;49m\u001b[43m.\u001b[49m\u001b[43mread_from\u001b[49m\u001b[43m(\u001b[49m\u001b[43mpath\u001b[49m\u001b[43m,\u001b[49m\u001b[43m \u001b[49m\u001b[43mserver\u001b[49m\u001b[43m)\u001b[49m\n\u001b[32m     91\u001b[39m instance._local_id = rem_id\n\u001b[32m     93\u001b[39m \u001b[38;5;28;01mreturn\u001b[39;00m instance\n",
      "\u001b[36mFile \u001b[39m\u001b[32m~/code/old-laptop/code/others/play-jupyter/dhis2-api-client/.venv/lib/python3.12/site-packages/fhirclient/models/fhirabstractresource.py:109\u001b[39m, in \u001b[36mFHIRAbstractResource.read_from\u001b[39m\u001b[34m(cls, path, server)\u001b[39m\n\u001b[32m    106\u001b[39m \u001b[38;5;28;01mif\u001b[39;00m server \u001b[38;5;129;01mis\u001b[39;00m \u001b[38;5;28;01mNone\u001b[39;00m:\n\u001b[32m    107\u001b[39m     \u001b[38;5;28;01mraise\u001b[39;00m \u001b[38;5;167;01mException\u001b[39;00m(\u001b[33m\"\u001b[39m\u001b[33mCannot read resource without server instance\u001b[39m\u001b[33m\"\u001b[39m)\n\u001b[32m--> \u001b[39m\u001b[32m109\u001b[39m ret = \u001b[43mserver\u001b[49m\u001b[43m.\u001b[49m\u001b[43mrequest_json\u001b[49m\u001b[43m(\u001b[49m\u001b[43mpath\u001b[49m\u001b[43m)\u001b[49m\n\u001b[32m    110\u001b[39m instance = \u001b[38;5;28mcls\u001b[39m(jsondict=ret)\n\u001b[32m    111\u001b[39m instance.origin_server = server\n",
      "\u001b[36mFile \u001b[39m\u001b[32m~/code/old-laptop/code/others/play-jupyter/dhis2-api-client/.venv/lib/python3.12/site-packages/fhirclient/server.py:163\u001b[39m, in \u001b[36mFHIRServer.request_json\u001b[39m\u001b[34m(self, path, nosign)\u001b[39m\n\u001b[32m    154\u001b[39m \u001b[38;5;250m\u001b[39m\u001b[33;03m\"\"\" Perform a request for JSON data against the server's base with the\u001b[39;00m\n\u001b[32m    155\u001b[39m \u001b[33;03mgiven relative path.\u001b[39;00m\n\u001b[32m    156\u001b[39m \u001b[33;03m\u001b[39;00m\n\u001b[32m   (...)\u001b[39m\u001b[32m    160\u001b[39m \u001b[33;03m:returns: Decoded JSON response\u001b[39;00m\n\u001b[32m    161\u001b[39m \u001b[33;03m\"\"\"\u001b[39;00m\n\u001b[32m    162\u001b[39m headers = {\u001b[33m'\u001b[39m\u001b[33mAccept\u001b[39m\u001b[33m'\u001b[39m: \u001b[33m'\u001b[39m\u001b[33mapplication/json\u001b[39m\u001b[33m'\u001b[39m}\n\u001b[32m--> \u001b[39m\u001b[32m163\u001b[39m res = \u001b[38;5;28;43mself\u001b[39;49m\u001b[43m.\u001b[49m\u001b[43m_get\u001b[49m\u001b[43m(\u001b[49m\u001b[43mpath\u001b[49m\u001b[43m,\u001b[49m\u001b[43m \u001b[49m\u001b[43mheaders\u001b[49m\u001b[43m,\u001b[49m\u001b[43m \u001b[49m\u001b[43mnosign\u001b[49m\u001b[43m)\u001b[49m\n\u001b[32m    165\u001b[39m \u001b[38;5;28;01mreturn\u001b[39;00m res.json()\n",
      "\u001b[36mFile \u001b[39m\u001b[32m~/code/old-laptop/code/others/play-jupyter/dhis2-api-client/.venv/lib/python3.12/site-packages/fhirclient/server.py:195\u001b[39m, in \u001b[36mFHIRServer._get\u001b[39m\u001b[34m(self, path, headers, nosign)\u001b[39m\n\u001b[32m    193\u001b[39m \u001b[38;5;66;03m# perform the request but intercept 401 responses, raising our own Exception\u001b[39;00m\n\u001b[32m    194\u001b[39m res = \u001b[38;5;28mself\u001b[39m.session.get(url, headers=headers)\n\u001b[32m--> \u001b[39m\u001b[32m195\u001b[39m \u001b[38;5;28;43mself\u001b[39;49m\u001b[43m.\u001b[49m\u001b[43mraise_for_status\u001b[49m\u001b[43m(\u001b[49m\u001b[43mres\u001b[49m\u001b[43m)\u001b[49m\n\u001b[32m    196\u001b[39m \u001b[38;5;28;01mreturn\u001b[39;00m res\n",
      "\u001b[36mFile \u001b[39m\u001b[32m~/code/old-laptop/code/others/play-jupyter/dhis2-api-client/.venv/lib/python3.12/site-packages/fhirclient/server.py:292\u001b[39m, in \u001b[36mFHIRServer.raise_for_status\u001b[39m\u001b[34m(self, response)\u001b[39m\n\u001b[32m    290\u001b[39m     \u001b[38;5;28;01mraise\u001b[39;00m FHIRPermissionDeniedException(response)\n\u001b[32m    291\u001b[39m \u001b[38;5;28;01melif\u001b[39;00m \u001b[32m404\u001b[39m == response.status_code:\n\u001b[32m--> \u001b[39m\u001b[32m292\u001b[39m     \u001b[38;5;28;01mraise\u001b[39;00m FHIRNotFoundException(response)\n\u001b[32m    293\u001b[39m \u001b[38;5;28;01melse\u001b[39;00m:\n\u001b[32m    294\u001b[39m     response.raise_for_status()\n",
      "\u001b[31mFHIRNotFoundException\u001b[39m: <Response [404]>"
     ]
    }
   ],
   "source": [
    "\n",
    "patient = Patient.read('597083', smart.server)\n",
    "print(patient)\n",
    "# '1992-07-03'\n",
    "# print(smart.human_name(questionnaire.name[0]))\n",
    "# 'Mr. Geoffrey Abbott'"
   ]
  }
 ],
 "metadata": {
  "kernelspec": {
   "display_name": ".venv",
   "language": "python",
   "name": "python3"
  },
  "language_info": {
   "codemirror_mode": {
    "name": "ipython",
    "version": 3
   },
   "file_extension": ".py",
   "mimetype": "text/x-python",
   "name": "python",
   "nbconvert_exporter": "python",
   "pygments_lexer": "ipython3",
   "version": "3.12.3"
  }
 },
 "nbformat": 4,
 "nbformat_minor": 5
}
